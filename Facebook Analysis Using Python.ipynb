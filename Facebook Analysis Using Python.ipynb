{
 "cells": [
  {
   "cell_type": "markdown",
   "id": "c068a1d0",
   "metadata": {},
   "source": [
    "# Facebook Users by Country Analysis with Python"
   ]
  },
  {
   "cell_type": "markdown",
   "id": "1b3ba75c",
   "metadata": {},
   "source": [
    "Problem Statement\n",
    "The Facebook Users by Country Data (Cleaned) dataset is a collection of information on Facebook users from different countries. The dataset contains five columns of data, which are named as follows:\n",
    "\n",
    "Names: This column contains the names of the countries for which the data is collected.\n",
    "Users: This column provides the number of Facebook users in millions for each respective country.\n",
    "Facebook_Users: This column shows the percentage of the total population of each country that uses Facebook.\n",
    "Date_of_Data: This column indicates the date on which the data was collected and compiled.\n",
    "Population: This column represents the total population of each country."
   ]
  },
  {
   "cell_type": "markdown",
   "id": "6ff2a48f",
   "metadata": {},
   "source": [
    "# Import Library"
   ]
  },
  {
   "cell_type": "code",
   "execution_count": 1,
   "id": "df179ad8",
   "metadata": {},
   "outputs": [],
   "source": [
    "import pandas as pd"
   ]
  },
  {
   "cell_type": "code",
   "execution_count": 2,
   "id": "517a0fd1",
   "metadata": {},
   "outputs": [
    {
     "name": "stderr",
     "output_type": "stream",
     "text": [
      "C:\\Users\\Syed Arif\\anaconda3\\lib\\site-packages\\scipy\\__init__.py:146: UserWarning: A NumPy version >=1.16.5 and <1.23.0 is required for this version of SciPy (detected version 1.25.1\n",
      "  warnings.warn(f\"A NumPy version >={np_minversion} and <{np_maxversion}\"\n"
     ]
    }
   ],
   "source": [
    "import pandas as pd\n",
    "import seaborn as sns\n",
    "import matplotlib.pyplot as plt\n",
    "import seaborn as sns"
   ]
  },
  {
   "cell_type": "markdown",
   "id": "4b0eb245",
   "metadata": {},
   "source": [
    "# Uploading Csv fle"
   ]
  },
  {
   "cell_type": "code",
   "execution_count": 3,
   "id": "ddda5ead",
   "metadata": {},
   "outputs": [],
   "source": [
    "df = pd.read_csv(r\"C:\\Users\\Syed Arif\\Desktop\\data.csv\")"
   ]
  },
  {
   "cell_type": "markdown",
   "id": "c5597201",
   "metadata": {},
   "source": [
    "# Data Preprocessing\n"
   ]
  },
  {
   "cell_type": "markdown",
   "id": "aace63f6",
   "metadata": {},
   "source": [
    "# .head()"
   ]
  },
  {
   "cell_type": "markdown",
   "id": "b7a66965",
   "metadata": {},
   "source": [
    "head is used show to the By default = 5 rows in the dataset"
   ]
  },
  {
   "cell_type": "code",
   "execution_count": 4,
   "id": "1c714689",
   "metadata": {},
   "outputs": [
    {
     "data": {
      "text/html": [
       "<div>\n",
       "<style scoped>\n",
       "    .dataframe tbody tr th:only-of-type {\n",
       "        vertical-align: middle;\n",
       "    }\n",
       "\n",
       "    .dataframe tbody tr th {\n",
       "        vertical-align: top;\n",
       "    }\n",
       "\n",
       "    .dataframe thead th {\n",
       "        text-align: right;\n",
       "    }\n",
       "</style>\n",
       "<table border=\"1\" class=\"dataframe\">\n",
       "  <thead>\n",
       "    <tr style=\"text-align: right;\">\n",
       "      <th></th>\n",
       "      <th>Name</th>\n",
       "      <th>Users</th>\n",
       "      <th>Facebook_Users%</th>\n",
       "      <th>Date_of_Data</th>\n",
       "      <th>Population</th>\n",
       "    </tr>\n",
       "  </thead>\n",
       "  <tbody>\n",
       "    <tr>\n",
       "      <th>0</th>\n",
       "      <td>India</td>\n",
       "      <td>416.6M</td>\n",
       "      <td>29.16%</td>\n",
       "      <td>2021-06</td>\n",
       "      <td>1,428,627,663</td>\n",
       "    </tr>\n",
       "    <tr>\n",
       "      <th>1</th>\n",
       "      <td>United States</td>\n",
       "      <td>240M</td>\n",
       "      <td>70.59%</td>\n",
       "      <td>2020-12</td>\n",
       "      <td>339,996,563</td>\n",
       "    </tr>\n",
       "    <tr>\n",
       "      <th>2</th>\n",
       "      <td>Indonesia</td>\n",
       "      <td>176.5M</td>\n",
       "      <td>63.6%</td>\n",
       "      <td>2021-06</td>\n",
       "      <td>277,534,122</td>\n",
       "    </tr>\n",
       "    <tr>\n",
       "      <th>3</th>\n",
       "      <td>Brazil</td>\n",
       "      <td>139M</td>\n",
       "      <td>64.23%</td>\n",
       "      <td>2020-12</td>\n",
       "      <td>216,422,446</td>\n",
       "    </tr>\n",
       "    <tr>\n",
       "      <th>4</th>\n",
       "      <td>Philippines</td>\n",
       "      <td>91M</td>\n",
       "      <td>77.55%</td>\n",
       "      <td>2021-06</td>\n",
       "      <td>117,337,368</td>\n",
       "    </tr>\n",
       "  </tbody>\n",
       "</table>\n",
       "</div>"
      ],
      "text/plain": [
       "            Name   Users Facebook_Users% Date_of_Data     Population\n",
       "0          India  416.6M          29.16%      2021-06  1,428,627,663\n",
       "1  United States    240M          70.59%      2020-12    339,996,563\n",
       "2      Indonesia  176.5M           63.6%      2021-06    277,534,122\n",
       "3         Brazil    139M          64.23%      2020-12    216,422,446\n",
       "4    Philippines     91M          77.55%      2021-06    117,337,368"
      ]
     },
     "execution_count": 4,
     "metadata": {},
     "output_type": "execute_result"
    }
   ],
   "source": [
    "df.head()"
   ]
  },
  {
   "cell_type": "markdown",
   "id": "8684a0d2",
   "metadata": {},
   "source": [
    "# .tail()"
   ]
  },
  {
   "cell_type": "markdown",
   "id": "dc1a3074",
   "metadata": {},
   "source": [
    "tail is used to show rows by Descending order"
   ]
  },
  {
   "cell_type": "code",
   "execution_count": 5,
   "id": "13069e51",
   "metadata": {},
   "outputs": [
    {
     "data": {
      "text/html": [
       "<div>\n",
       "<style scoped>\n",
       "    .dataframe tbody tr th:only-of-type {\n",
       "        vertical-align: middle;\n",
       "    }\n",
       "\n",
       "    .dataframe tbody tr th {\n",
       "        vertical-align: top;\n",
       "    }\n",
       "\n",
       "    .dataframe thead th {\n",
       "        text-align: right;\n",
       "    }\n",
       "</style>\n",
       "<table border=\"1\" class=\"dataframe\">\n",
       "  <thead>\n",
       "    <tr style=\"text-align: right;\">\n",
       "      <th></th>\n",
       "      <th>Name</th>\n",
       "      <th>Users</th>\n",
       "      <th>Facebook_Users%</th>\n",
       "      <th>Date_of_Data</th>\n",
       "      <th>Population</th>\n",
       "    </tr>\n",
       "  </thead>\n",
       "  <tbody>\n",
       "    <tr>\n",
       "      <th>221</th>\n",
       "      <td>Cook Islands</td>\n",
       "      <td>2.7K</td>\n",
       "      <td>15.84%</td>\n",
       "      <td>2020-12</td>\n",
       "      <td>17,044</td>\n",
       "    </tr>\n",
       "    <tr>\n",
       "      <th>222</th>\n",
       "      <td>Montserrat</td>\n",
       "      <td>2.6K</td>\n",
       "      <td>59.28%</td>\n",
       "      <td>2020-12</td>\n",
       "      <td>4,386</td>\n",
       "    </tr>\n",
       "    <tr>\n",
       "      <th>223</th>\n",
       "      <td>Niue</td>\n",
       "      <td>820</td>\n",
       "      <td>42.38%</td>\n",
       "      <td>2020-12</td>\n",
       "      <td>1,935</td>\n",
       "    </tr>\n",
       "    <tr>\n",
       "      <th>224</th>\n",
       "      <td>Vatican City</td>\n",
       "      <td>799</td>\n",
       "      <td>154.25%</td>\n",
       "      <td>2020-12</td>\n",
       "      <td>518</td>\n",
       "    </tr>\n",
       "    <tr>\n",
       "      <th>225</th>\n",
       "      <td>Tokelau</td>\n",
       "      <td>410</td>\n",
       "      <td>21.66%</td>\n",
       "      <td>2020-12</td>\n",
       "      <td>1,893</td>\n",
       "    </tr>\n",
       "  </tbody>\n",
       "</table>\n",
       "</div>"
      ],
      "text/plain": [
       "             Name Users Facebook_Users% Date_of_Data Population\n",
       "221  Cook Islands  2.7K          15.84%      2020-12     17,044\n",
       "222    Montserrat  2.6K          59.28%      2020-12      4,386\n",
       "223          Niue   820          42.38%      2020-12      1,935\n",
       "224  Vatican City   799         154.25%      2020-12        518\n",
       "225       Tokelau   410          21.66%      2020-12      1,893"
      ]
     },
     "execution_count": 5,
     "metadata": {},
     "output_type": "execute_result"
    }
   ],
   "source": [
    "df.tail()"
   ]
  },
  {
   "cell_type": "markdown",
   "id": "e76fc80f",
   "metadata": {},
   "source": [
    "# .shape"
   ]
  },
  {
   "cell_type": "markdown",
   "id": "21d6d5af",
   "metadata": {},
   "source": [
    "It show the total no of rows & Column in the dataset"
   ]
  },
  {
   "cell_type": "code",
   "execution_count": 6,
   "id": "e34d1ec4",
   "metadata": {},
   "outputs": [
    {
     "data": {
      "text/plain": [
       "(226, 5)"
      ]
     },
     "execution_count": 6,
     "metadata": {},
     "output_type": "execute_result"
    }
   ],
   "source": [
    "df.shape"
   ]
  },
  {
   "cell_type": "markdown",
   "id": "618b8c56",
   "metadata": {},
   "source": [
    "# .Columns"
   ]
  },
  {
   "cell_type": "markdown",
   "id": "81d5b891",
   "metadata": {},
   "source": [
    "It show the no of each Column"
   ]
  },
  {
   "cell_type": "code",
   "execution_count": 7,
   "id": "d90a23ca",
   "metadata": {},
   "outputs": [
    {
     "data": {
      "text/plain": [
       "Index(['Name', 'Users', 'Facebook_Users%', 'Date_of_Data', 'Population'], dtype='object')"
      ]
     },
     "execution_count": 7,
     "metadata": {},
     "output_type": "execute_result"
    }
   ],
   "source": [
    "df.columns"
   ]
  },
  {
   "cell_type": "markdown",
   "id": "4c3f8320",
   "metadata": {},
   "source": [
    "# .dtypes"
   ]
  },
  {
   "cell_type": "markdown",
   "id": "19881edc",
   "metadata": {},
   "source": [
    "This Attribute show the data type of each column"
   ]
  },
  {
   "cell_type": "code",
   "execution_count": 8,
   "id": "4a5c7bdd",
   "metadata": {},
   "outputs": [
    {
     "data": {
      "text/plain": [
       "Name               object\n",
       "Users              object\n",
       "Facebook_Users%    object\n",
       "Date_of_Data       object\n",
       "Population         object\n",
       "dtype: object"
      ]
     },
     "execution_count": 8,
     "metadata": {},
     "output_type": "execute_result"
    }
   ],
   "source": [
    "df.dtypes"
   ]
  },
  {
   "cell_type": "markdown",
   "id": "f641048a",
   "metadata": {},
   "source": [
    "# .unique()"
   ]
  },
  {
   "cell_type": "markdown",
   "id": "bf6d4f5e",
   "metadata": {},
   "source": [
    "In a column, It show the unique value of specific column."
   ]
  },
  {
   "cell_type": "code",
   "execution_count": 9,
   "id": "bb0f0dd0",
   "metadata": {},
   "outputs": [
    {
     "data": {
      "text/plain": [
       "array(['India', 'United States', 'Indonesia', 'Brazil', 'Philippines',\n",
       "       'Mexico', 'Vietnam', 'Thailand', 'Japan', 'Pakistan', 'Egypt',\n",
       "       'Bangladesh', 'Turkey', 'United Kingdom', 'Iran', 'France',\n",
       "       'Germany', 'Italy', 'Nigeria', 'Argentina', 'Colombia', 'Malaysia',\n",
       "       'Spain', 'Saudi Arabia', 'South Korea', 'Iraq', 'Algeria',\n",
       "       'South Africa', 'Canada', 'Morocco', 'Taiwan', 'Myanmar', 'Peru',\n",
       "       'Poland', 'Australia', 'Russia', 'Nepal', 'Venezuela', 'Chile',\n",
       "       'Cambodia', 'Kazakhstan', 'Netherlands', 'Romania', 'Kenya',\n",
       "       'United Arab Emirates', 'Ecuador', 'Ukraine', 'Sweden', 'Syria',\n",
       "       'Tunisia', 'Sri Lanka', 'Ghana', 'Portugal', 'Guatemala',\n",
       "       'Ethiopia', 'Belgium', 'Jordan', 'Israel', 'Hong Kong', 'Bolivia',\n",
       "       'Hungary', 'Greece', 'Ivory Coast', 'Libya', 'Tanzania',\n",
       "       'Dominican Republic', 'Austria', 'Singapore', 'Czech Republic',\n",
       "       'Uzbekistan', 'Azerbaijan', 'Cameroon', 'Kuwait', 'Lebanon',\n",
       "       'Denmark', 'China', 'Bulgaria', 'Belarus', 'Laos', 'Senegal',\n",
       "       'Dr Congo', 'Switzerland', 'New Zealand', 'Honduras', 'Serbia',\n",
       "       'El Salvador', 'Norway', 'Yemen', 'Uganda', 'Paraguay', 'Georgia',\n",
       "       'Ireland', 'Finland', 'Costa Rica', 'Palestine', 'Oman', 'Qatar',\n",
       "       'Madagascar', 'Angola', 'Mozambique', 'Mongolia', 'Slovakia',\n",
       "       'Zambia', 'Nicaragua', 'Uruguay', 'Puerto Rico', 'Somalia',\n",
       "       'Croatia', 'Mali', 'Panama', 'Burkina Faso', 'Guinea', 'Armenia',\n",
       "       'Haiti', 'Albania', 'Benin', 'Bahrain', 'Lithuania', 'Zimbabwe',\n",
       "       'Sudan', 'Botswana', 'Tajikistan', 'Jamaica', 'Slovenia',\n",
       "       'North Macedonia', 'Cyprus', 'Mauritania', 'Mauritius', 'Togo',\n",
       "       'Sierra Leone', 'Republic Of The Congo', 'Gabon', 'Rwanda',\n",
       "       'Moldova', 'Namibia', 'Estonia', 'Latvia', 'Trinidad And Tobago',\n",
       "       'Burundi', 'Liberia', 'Malawi', 'Fiji', 'Reunion', 'Niger',\n",
       "       'Bhutan', 'Lesotho', 'Brunei', 'Chad', 'Timor Leste',\n",
       "       'South Sudan', 'Macau', 'Gambia', 'Maldives', 'Malta',\n",
       "       'Luxembourg', 'Guyana', 'Eswatini', 'Montenegro', 'Suriname',\n",
       "       'Djibouti', 'Iceland', 'Turkmenistan', 'Bahamas', 'Guadeloupe',\n",
       "       'French Polynesia', 'Belize', 'Comoros', 'New Caledonia',\n",
       "       'Martinique', 'Barbados', 'Guam', 'Guinea Bissau',\n",
       "       'Central African Republic', 'Samoa', 'Solomon Islands',\n",
       "       'Equatorial Guinea', 'Curacao', 'Vanuatu', 'French Guiana',\n",
       "       'Mayotte', 'Saint Lucia', 'Aruba', 'Tonga', 'Seychelles', 'Jersey',\n",
       "       'Grenada', 'Saint Vincent And The Grenadines', 'Andorra',\n",
       "       'Kiribati', 'Isle Of Man', 'Cayman Islands', 'Micronesia',\n",
       "       'Dominica', 'Bermuda', 'Greenland', 'Saint Kitts And Nevis',\n",
       "       'Guernsey', 'Northern Mariana Islands', 'Faroe Islands',\n",
       "       'American Samoa', 'Sint Maarten', 'Western Sahara',\n",
       "       'Turks And Caicos Islands', 'Marshall Islands', 'Gibraltar',\n",
       "       'United States Virgin Islands', 'Saint Martin', 'North Korea',\n",
       "       'Liechtenstein', 'Palau', 'Monaco', 'British Virgin Islands',\n",
       "       'Anguilla', 'San Marino', 'Tuvalu', 'Saint Barthelemy', 'Eritrea',\n",
       "       'Wallis And Futuna', 'Saint Pierre And Miquelon',\n",
       "       'Falkland Islands', 'Nauru', 'Cook Islands', 'Montserrat', 'Niue',\n",
       "       'Vatican City', 'Tokelau'], dtype=object)"
      ]
     },
     "execution_count": 9,
     "metadata": {},
     "output_type": "execute_result"
    }
   ],
   "source": [
    "df[\"Name\"].unique()"
   ]
  },
  {
   "cell_type": "markdown",
   "id": "f34840f6",
   "metadata": {},
   "source": [
    "# .nuique()"
   ]
  },
  {
   "cell_type": "markdown",
   "id": "73792a7b",
   "metadata": {},
   "source": [
    "It will show the total no of unque value from whole data frame"
   ]
  },
  {
   "cell_type": "code",
   "execution_count": 10,
   "id": "2e192d57",
   "metadata": {},
   "outputs": [
    {
     "data": {
      "text/plain": [
       "Name               226\n",
       "Users              180\n",
       "Facebook_Users%    224\n",
       "Date_of_Data         3\n",
       "Population         226\n",
       "dtype: int64"
      ]
     },
     "execution_count": 10,
     "metadata": {},
     "output_type": "execute_result"
    }
   ],
   "source": [
    "df.nunique()"
   ]
  },
  {
   "cell_type": "markdown",
   "id": "4d234903",
   "metadata": {},
   "source": [
    "# .describe()"
   ]
  },
  {
   "cell_type": "markdown",
   "id": "dff6dbc9",
   "metadata": {},
   "source": [
    "It show the Count, mean , median etc"
   ]
  },
  {
   "cell_type": "code",
   "execution_count": 11,
   "id": "dba2fda3",
   "metadata": {},
   "outputs": [
    {
     "data": {
      "text/html": [
       "<div>\n",
       "<style scoped>\n",
       "    .dataframe tbody tr th:only-of-type {\n",
       "        vertical-align: middle;\n",
       "    }\n",
       "\n",
       "    .dataframe tbody tr th {\n",
       "        vertical-align: top;\n",
       "    }\n",
       "\n",
       "    .dataframe thead th {\n",
       "        text-align: right;\n",
       "    }\n",
       "</style>\n",
       "<table border=\"1\" class=\"dataframe\">\n",
       "  <thead>\n",
       "    <tr style=\"text-align: right;\">\n",
       "      <th></th>\n",
       "      <th>Name</th>\n",
       "      <th>Users</th>\n",
       "      <th>Facebook_Users%</th>\n",
       "      <th>Date_of_Data</th>\n",
       "      <th>Population</th>\n",
       "    </tr>\n",
       "  </thead>\n",
       "  <tbody>\n",
       "    <tr>\n",
       "      <th>count</th>\n",
       "      <td>226</td>\n",
       "      <td>226</td>\n",
       "      <td>226</td>\n",
       "      <td>226</td>\n",
       "      <td>226</td>\n",
       "    </tr>\n",
       "    <tr>\n",
       "      <th>unique</th>\n",
       "      <td>226</td>\n",
       "      <td>180</td>\n",
       "      <td>224</td>\n",
       "      <td>3</td>\n",
       "      <td>226</td>\n",
       "    </tr>\n",
       "    <tr>\n",
       "      <th>top</th>\n",
       "      <td>India</td>\n",
       "      <td>3.4M</td>\n",
       "      <td>23.28%</td>\n",
       "      <td>2020-12</td>\n",
       "      <td>1,428,627,663</td>\n",
       "    </tr>\n",
       "    <tr>\n",
       "      <th>freq</th>\n",
       "      <td>1</td>\n",
       "      <td>4</td>\n",
       "      <td>2</td>\n",
       "      <td>179</td>\n",
       "      <td>1</td>\n",
       "    </tr>\n",
       "  </tbody>\n",
       "</table>\n",
       "</div>"
      ],
      "text/plain": [
       "         Name Users Facebook_Users% Date_of_Data     Population\n",
       "count     226   226             226          226            226\n",
       "unique    226   180             224            3            226\n",
       "top     India  3.4M          23.28%      2020-12  1,428,627,663\n",
       "freq        1     4               2          179              1"
      ]
     },
     "execution_count": 11,
     "metadata": {},
     "output_type": "execute_result"
    }
   ],
   "source": [
    "df.describe()"
   ]
  },
  {
   "cell_type": "markdown",
   "id": "e0a1161b",
   "metadata": {},
   "source": [
    "# .value_counts"
   ]
  },
  {
   "cell_type": "markdown",
   "id": "dcea0077",
   "metadata": {},
   "source": [
    "It Shows all the unique values with their count"
   ]
  },
  {
   "cell_type": "code",
   "execution_count": 12,
   "id": "8a63f82e",
   "metadata": {},
   "outputs": [
    {
     "data": {
      "text/plain": [
       "India          1\n",
       "Barbados       1\n",
       "Niger          1\n",
       "Bhutan         1\n",
       "Lesotho        1\n",
       "              ..\n",
       "Senegal        1\n",
       "Dr Congo       1\n",
       "Switzerland    1\n",
       "New Zealand    1\n",
       "Tokelau        1\n",
       "Name: Name, Length: 226, dtype: int64"
      ]
     },
     "execution_count": 12,
     "metadata": {},
     "output_type": "execute_result"
    }
   ],
   "source": [
    "df[\"Name\"].value_counts()"
   ]
  },
  {
   "cell_type": "markdown",
   "id": "f55f4c89",
   "metadata": {},
   "source": [
    "# .isnull()"
   ]
  },
  {
   "cell_type": "markdown",
   "id": "cb961a9d",
   "metadata": {},
   "source": [
    "It shows the how many null values"
   ]
  },
  {
   "cell_type": "code",
   "execution_count": 13,
   "id": "614ae149",
   "metadata": {},
   "outputs": [
    {
     "data": {
      "text/html": [
       "<div>\n",
       "<style scoped>\n",
       "    .dataframe tbody tr th:only-of-type {\n",
       "        vertical-align: middle;\n",
       "    }\n",
       "\n",
       "    .dataframe tbody tr th {\n",
       "        vertical-align: top;\n",
       "    }\n",
       "\n",
       "    .dataframe thead th {\n",
       "        text-align: right;\n",
       "    }\n",
       "</style>\n",
       "<table border=\"1\" class=\"dataframe\">\n",
       "  <thead>\n",
       "    <tr style=\"text-align: right;\">\n",
       "      <th></th>\n",
       "      <th>Name</th>\n",
       "      <th>Users</th>\n",
       "      <th>Facebook_Users%</th>\n",
       "      <th>Date_of_Data</th>\n",
       "      <th>Population</th>\n",
       "    </tr>\n",
       "  </thead>\n",
       "  <tbody>\n",
       "    <tr>\n",
       "      <th>0</th>\n",
       "      <td>False</td>\n",
       "      <td>False</td>\n",
       "      <td>False</td>\n",
       "      <td>False</td>\n",
       "      <td>False</td>\n",
       "    </tr>\n",
       "    <tr>\n",
       "      <th>1</th>\n",
       "      <td>False</td>\n",
       "      <td>False</td>\n",
       "      <td>False</td>\n",
       "      <td>False</td>\n",
       "      <td>False</td>\n",
       "    </tr>\n",
       "    <tr>\n",
       "      <th>2</th>\n",
       "      <td>False</td>\n",
       "      <td>False</td>\n",
       "      <td>False</td>\n",
       "      <td>False</td>\n",
       "      <td>False</td>\n",
       "    </tr>\n",
       "    <tr>\n",
       "      <th>3</th>\n",
       "      <td>False</td>\n",
       "      <td>False</td>\n",
       "      <td>False</td>\n",
       "      <td>False</td>\n",
       "      <td>False</td>\n",
       "    </tr>\n",
       "    <tr>\n",
       "      <th>4</th>\n",
       "      <td>False</td>\n",
       "      <td>False</td>\n",
       "      <td>False</td>\n",
       "      <td>False</td>\n",
       "      <td>False</td>\n",
       "    </tr>\n",
       "    <tr>\n",
       "      <th>...</th>\n",
       "      <td>...</td>\n",
       "      <td>...</td>\n",
       "      <td>...</td>\n",
       "      <td>...</td>\n",
       "      <td>...</td>\n",
       "    </tr>\n",
       "    <tr>\n",
       "      <th>221</th>\n",
       "      <td>False</td>\n",
       "      <td>False</td>\n",
       "      <td>False</td>\n",
       "      <td>False</td>\n",
       "      <td>False</td>\n",
       "    </tr>\n",
       "    <tr>\n",
       "      <th>222</th>\n",
       "      <td>False</td>\n",
       "      <td>False</td>\n",
       "      <td>False</td>\n",
       "      <td>False</td>\n",
       "      <td>False</td>\n",
       "    </tr>\n",
       "    <tr>\n",
       "      <th>223</th>\n",
       "      <td>False</td>\n",
       "      <td>False</td>\n",
       "      <td>False</td>\n",
       "      <td>False</td>\n",
       "      <td>False</td>\n",
       "    </tr>\n",
       "    <tr>\n",
       "      <th>224</th>\n",
       "      <td>False</td>\n",
       "      <td>False</td>\n",
       "      <td>False</td>\n",
       "      <td>False</td>\n",
       "      <td>False</td>\n",
       "    </tr>\n",
       "    <tr>\n",
       "      <th>225</th>\n",
       "      <td>False</td>\n",
       "      <td>False</td>\n",
       "      <td>False</td>\n",
       "      <td>False</td>\n",
       "      <td>False</td>\n",
       "    </tr>\n",
       "  </tbody>\n",
       "</table>\n",
       "<p>226 rows × 5 columns</p>\n",
       "</div>"
      ],
      "text/plain": [
       "      Name  Users  Facebook_Users%  Date_of_Data  Population\n",
       "0    False  False            False         False       False\n",
       "1    False  False            False         False       False\n",
       "2    False  False            False         False       False\n",
       "3    False  False            False         False       False\n",
       "4    False  False            False         False       False\n",
       "..     ...    ...              ...           ...         ...\n",
       "221  False  False            False         False       False\n",
       "222  False  False            False         False       False\n",
       "223  False  False            False         False       False\n",
       "224  False  False            False         False       False\n",
       "225  False  False            False         False       False\n",
       "\n",
       "[226 rows x 5 columns]"
      ]
     },
     "execution_count": 13,
     "metadata": {},
     "output_type": "execute_result"
    }
   ],
   "source": [
    "df.isnull()"
   ]
  },
  {
   "cell_type": "code",
   "execution_count": 14,
   "id": "483ad1db",
   "metadata": {},
   "outputs": [
    {
     "data": {
      "text/plain": [
       "<AxesSubplot:>"
      ]
     },
     "execution_count": 14,
     "metadata": {},
     "output_type": "execute_result"
    },
    {
     "data": {
      "image/png": "[encoded data removed]",
      "text/plain": [
       "<Figure size 432x288 with 2 Axes>"
      ]
     },
     "metadata": {
      "needs_background": "light"
     },
     "output_type": "display_data"
    }
   ],
   "source": [
    "sns.heatmap(df.isnull())"
   ]
  },
  {
   "cell_type": "code",
   "execution_count": 24,
   "id": "2bf8ffd3",
   "metadata": {},
   "outputs": [],
   "source": [
    "def remove_alphs(data):\n",
    "    if 'M' in data:\n",
    "        x= data.replace('M','')\n",
    "        x= pd.to_numeric(x)\n",
    "        return float(x*1000000)\n",
    "    elif 'K' in data:\n",
    "        x = data.replace('K','')\n",
    "        x= pd.to_numeric(x)\n",
    "        return float(x*1000)"
   ]
  },
  {
   "cell_type": "code",
   "execution_count": 25,
   "id": "e0f029ad",
   "metadata": {},
   "outputs": [],
   "source": [
    "df['Users'] = df['Users'].apply(lambda x: remove_alphs(x))"
   ]
  },
  {
   "cell_type": "code",
   "execution_count": 31,
   "id": "22308275",
   "metadata": {},
   "outputs": [],
   "source": [
    "# Top Country by Facebook_User%\n",
    "Top =df.nlargest(10,'Users')"
   ]
  },
  {
   "cell_type": "code",
   "execution_count": 32,
   "id": "1f77d72a",
   "metadata": {},
   "outputs": [
    {
     "data": {
      "text/plain": [
       "(array([0, 1, 2, 3, 4, 5, 6, 7, 8, 9]),\n",
       " [Text(0, 0, 'India'),\n",
       "  Text(1, 0, 'United States'),\n",
       "  Text(2, 0, 'Indonesia'),\n",
       "  Text(3, 0, 'Brazil'),\n",
       "  Text(4, 0, 'Philippines'),\n",
       "  Text(5, 0, 'Mexico'),\n",
       "  Text(6, 0, 'Vietnam'),\n",
       "  Text(7, 0, 'Thailand'),\n",
       "  Text(8, 0, 'Japan'),\n",
       "  Text(9, 0, 'Pakistan')])"
      ]
     },
     "execution_count": 32,
     "metadata": {},
     "output_type": "execute_result"
    },
    {
     "data": {
      "image/png": "[encoded data removed]",
      "text/plain": [
       "<Figure size 720x432 with 1 Axes>"
      ]
     },
     "metadata": {
      "needs_background": "light"
     },
     "output_type": "display_data"
    }
   ],
   "source": [
    "plt.figure(figsize=(10,6))\n",
    "sns.barplot(x= 'Name',y= 'Users',data= Top)\n",
    "plt.xticks(rotation=45)"
   ]
  },
  {
   "cell_type": "code",
   "execution_count": 33,
   "id": "d96bd717",
   "metadata": {},
   "outputs": [],
   "source": [
    "def remove_perc(data):\n",
    "    if '%' in data:\n",
    "        data = data.replace('%','')\n",
    "        data = pd.to_numeric(data)\n",
    "        return float(data)"
   ]
  },
  {
   "cell_type": "code",
   "execution_count": 34,
   "id": "88db93e0",
   "metadata": {},
   "outputs": [],
   "source": [
    "df['Facebook_Users%'] = df['Facebook_Users%'].apply(lambda x: remove_perc(x))"
   ]
  },
  {
   "cell_type": "code",
   "execution_count": 35,
   "id": "46094ac0",
   "metadata": {},
   "outputs": [],
   "source": [
    "per_users = df.nlargest(10,'Facebook_Users%')"
   ]
  },
  {
   "cell_type": "code",
   "execution_count": 36,
   "id": "0bae768e",
   "metadata": {},
   "outputs": [
    {
     "data": {
      "text/plain": [
       "(array([0, 1, 2, 3, 4, 5, 6, 7, 8, 9]),\n",
       " [Text(0, 0, 'Vatican City'),\n",
       "  Text(1, 0, 'United Arab Emirates'),\n",
       "  Text(2, 0, 'Qatar'),\n",
       "  Text(3, 0, 'Brunei'),\n",
       "  Text(4, 0, 'Bahrain'),\n",
       "  Text(5, 0, 'Kuwait'),\n",
       "  Text(6, 0, 'Guam'),\n",
       "  Text(7, 0, 'Georgia'),\n",
       "  Text(8, 0, 'Taiwan'),\n",
       "  Text(9, 0, 'Aruba')])"
      ]
     },
     "execution_count": 36,
     "metadata": {},
     "output_type": "execute_result"
    },
    {
     "data": {
      "image/png": "[encoded data removed]",
      "text/plain": [
       "<Figure size 720x432 with 1 Axes>"
      ]
     },
     "metadata": {
      "needs_background": "light"
     },
     "output_type": "display_data"
    }
   ],
   "source": [
    "plt.figure(figsize=(10,6))\n",
    "sns.barplot(x= 'Name',y= 'Facebook_Users%',data=per_users)\n",
    "plt.xticks(rotation=45)"
   ]
  },
  {
   "cell_type": "code",
   "execution_count": 37,
   "id": "4e5b0522",
   "metadata": {},
   "outputs": [
    {
     "data": {
      "text/html": [
       "<div>\n",
       "<style scoped>\n",
       "    .dataframe tbody tr th:only-of-type {\n",
       "        vertical-align: middle;\n",
       "    }\n",
       "\n",
       "    .dataframe tbody tr th {\n",
       "        vertical-align: top;\n",
       "    }\n",
       "\n",
       "    .dataframe thead th {\n",
       "        text-align: right;\n",
       "    }\n",
       "</style>\n",
       "<table border=\"1\" class=\"dataframe\">\n",
       "  <thead>\n",
       "    <tr style=\"text-align: right;\">\n",
       "      <th></th>\n",
       "      <th>Name</th>\n",
       "      <th>Users</th>\n",
       "      <th>Facebook_Users%</th>\n",
       "      <th>Date_of_Data</th>\n",
       "      <th>Population</th>\n",
       "      <th>Actual_Users</th>\n",
       "    </tr>\n",
       "  </thead>\n",
       "  <tbody>\n",
       "    <tr>\n",
       "      <th>0</th>\n",
       "      <td>India</td>\n",
       "      <td>416600000.0</td>\n",
       "      <td>29.16</td>\n",
       "      <td>2021-06</td>\n",
       "      <td>1,428,627,663</td>\n",
       "      <td>1.214806e+10</td>\n",
       "    </tr>\n",
       "    <tr>\n",
       "      <th>1</th>\n",
       "      <td>United States</td>\n",
       "      <td>240000000.0</td>\n",
       "      <td>70.59</td>\n",
       "      <td>2020-12</td>\n",
       "      <td>339,996,563</td>\n",
       "      <td>1.694160e+10</td>\n",
       "    </tr>\n",
       "    <tr>\n",
       "      <th>2</th>\n",
       "      <td>Indonesia</td>\n",
       "      <td>176500000.0</td>\n",
       "      <td>63.60</td>\n",
       "      <td>2021-06</td>\n",
       "      <td>277,534,122</td>\n",
       "      <td>1.122540e+10</td>\n",
       "    </tr>\n",
       "    <tr>\n",
       "      <th>3</th>\n",
       "      <td>Brazil</td>\n",
       "      <td>139000000.0</td>\n",
       "      <td>64.23</td>\n",
       "      <td>2020-12</td>\n",
       "      <td>216,422,446</td>\n",
       "      <td>8.927970e+09</td>\n",
       "    </tr>\n",
       "    <tr>\n",
       "      <th>4</th>\n",
       "      <td>Philippines</td>\n",
       "      <td>91000000.0</td>\n",
       "      <td>77.55</td>\n",
       "      <td>2021-06</td>\n",
       "      <td>117,337,368</td>\n",
       "      <td>7.057050e+09</td>\n",
       "    </tr>\n",
       "  </tbody>\n",
       "</table>\n",
       "</div>"
      ],
      "text/plain": [
       "            Name        Users  Facebook_Users% Date_of_Data     Population  \\\n",
       "0          India  416600000.0            29.16      2021-06  1,428,627,663   \n",
       "1  United States  240000000.0            70.59      2020-12    339,996,563   \n",
       "2      Indonesia  176500000.0            63.60      2021-06    277,534,122   \n",
       "3         Brazil  139000000.0            64.23      2020-12    216,422,446   \n",
       "4    Philippines   91000000.0            77.55      2021-06    117,337,368   \n",
       "\n",
       "   Actual_Users  \n",
       "0  1.214806e+10  \n",
       "1  1.694160e+10  \n",
       "2  1.122540e+10  \n",
       "3  8.927970e+09  \n",
       "4  7.057050e+09  "
      ]
     },
     "execution_count": 37,
     "metadata": {},
     "output_type": "execute_result"
    }
   ],
   "source": [
    "df['Actual_Users'] = df['Users']*df['Facebook_Users%']\n",
    "df.head()"
   ]
  },
  {
   "cell_type": "code",
   "execution_count": 38,
   "id": "c21f5beb",
   "metadata": {},
   "outputs": [
    {
     "data": {
      "text/html": [
       "<div>\n",
       "<style scoped>\n",
       "    .dataframe tbody tr th:only-of-type {\n",
       "        vertical-align: middle;\n",
       "    }\n",
       "\n",
       "    .dataframe tbody tr th {\n",
       "        vertical-align: top;\n",
       "    }\n",
       "\n",
       "    .dataframe thead th {\n",
       "        text-align: right;\n",
       "    }\n",
       "</style>\n",
       "<table border=\"1\" class=\"dataframe\">\n",
       "  <thead>\n",
       "    <tr style=\"text-align: right;\">\n",
       "      <th></th>\n",
       "      <th>Name</th>\n",
       "      <th>Users</th>\n",
       "      <th>Date_of_Data</th>\n",
       "      <th>Population</th>\n",
       "      <th>Actual_Users</th>\n",
       "    </tr>\n",
       "  </thead>\n",
       "  <tbody>\n",
       "    <tr>\n",
       "      <th>0</th>\n",
       "      <td>India</td>\n",
       "      <td>416600000.0</td>\n",
       "      <td>2021-06</td>\n",
       "      <td>1,428,627,663</td>\n",
       "      <td>1.214806e+10</td>\n",
       "    </tr>\n",
       "    <tr>\n",
       "      <th>1</th>\n",
       "      <td>United States</td>\n",
       "      <td>240000000.0</td>\n",
       "      <td>2020-12</td>\n",
       "      <td>339,996,563</td>\n",
       "      <td>1.694160e+10</td>\n",
       "    </tr>\n",
       "    <tr>\n",
       "      <th>2</th>\n",
       "      <td>Indonesia</td>\n",
       "      <td>176500000.0</td>\n",
       "      <td>2021-06</td>\n",
       "      <td>277,534,122</td>\n",
       "      <td>1.122540e+10</td>\n",
       "    </tr>\n",
       "    <tr>\n",
       "      <th>3</th>\n",
       "      <td>Brazil</td>\n",
       "      <td>139000000.0</td>\n",
       "      <td>2020-12</td>\n",
       "      <td>216,422,446</td>\n",
       "      <td>8.927970e+09</td>\n",
       "    </tr>\n",
       "    <tr>\n",
       "      <th>4</th>\n",
       "      <td>Philippines</td>\n",
       "      <td>91000000.0</td>\n",
       "      <td>2021-06</td>\n",
       "      <td>117,337,368</td>\n",
       "      <td>7.057050e+09</td>\n",
       "    </tr>\n",
       "  </tbody>\n",
       "</table>\n",
       "</div>"
      ],
      "text/plain": [
       "            Name        Users Date_of_Data     Population  Actual_Users\n",
       "0          India  416600000.0      2021-06  1,428,627,663  1.214806e+10\n",
       "1  United States  240000000.0      2020-12    339,996,563  1.694160e+10\n",
       "2      Indonesia  176500000.0      2021-06    277,534,122  1.122540e+10\n",
       "3         Brazil  139000000.0      2020-12    216,422,446  8.927970e+09\n",
       "4    Philippines   91000000.0      2021-06    117,337,368  7.057050e+09"
      ]
     },
     "execution_count": 38,
     "metadata": {},
     "output_type": "execute_result"
    }
   ],
   "source": [
    "df = df.drop('Facebook_Users%',axis=1)\n",
    "df.head()"
   ]
  },
  {
   "cell_type": "code",
   "execution_count": 39,
   "id": "5552bc2d",
   "metadata": {},
   "outputs": [
    {
     "data": {
      "image/png": "[encoded data removed]",
      "text/plain": [
       "<Figure size 432x288 with 1 Axes>"
      ]
     },
     "metadata": {},
     "output_type": "display_data"
    }
   ],
   "source": [
    "df.groupby('Date_of_Data')['Actual_Users'].sum().plot(kind='pie',autopct='%0.2f%%')\n",
    "plt.show()"
   ]
  },
  {
   "cell_type": "code",
   "execution_count": 41,
   "id": "870aa9db",
   "metadata": {},
   "outputs": [
    {
     "name": "stderr",
     "output_type": "stream",
     "text": [
      "C:\\Users\\Syed Arif\\AppData\\Local\\Temp\\ipykernel_7584\\1683901388.py:1: FutureWarning: Indexing with multiple keys (implicitly converted to a tuple of keys) will be deprecated, use a list instead.\n",
      "  df.groupby('Date_of_Data')['Actual_Users','Users'].sum().plot(kind='barh')\n"
     ]
    },
    {
     "data": {
      "image/png": "[encoded data removed]",
      "text/plain": [
       "<Figure size 432x288 with 1 Axes>"
      ]
     },
     "metadata": {
      "needs_background": "light"
     },
     "output_type": "display_data"
    }
   ],
   "source": [
    "df.groupby('Date_of_Data')['Actual_Users','Users'].sum().plot(kind='barh')\n",
    "plt.show()"
   ]
  },
  {
   "cell_type": "code",
   "execution_count": null,
   "id": "e6f2d389",
   "metadata": {},
   "outputs": [],
   "source": []
  }
 ],
 "metadata": {
  "kernelspec": {
   "display_name": "Python 3 (ipykernel)",
   "language": "python",
   "name": "python3"
  },
  "language_info": {
   "codemirror_mode": {
    "name": "ipython",
    "version": 3
   },
   "file_extension": ".py",
   "mimetype": "text/x-python",
   "name": "python",
   "nbconvert_exporter": "python",
   "pygments_lexer": "ipython3",
   "version": "3.9.12"
  }
 },
 "nbformat": 4,
 "nbformat_minor": 5
}
